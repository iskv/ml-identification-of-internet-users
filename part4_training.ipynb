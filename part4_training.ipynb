{
 "cells": [
  {
   "cell_type": "markdown",
   "metadata": {},
   "source": [
    "# Project: \"Identification Of Internet Users\"\n",
    "\n",
    "# Part 4. Comparison of algorithms of classification"
   ]
  },
  {
   "cell_type": "code",
   "execution_count": 1,
   "metadata": {},
   "outputs": [],
   "source": [
    "import warnings\n",
    "warnings.filterwarnings('ignore')\n",
    "import itertools\n",
    "import os\n",
    "import time\n",
    "import numpy as np\n",
    "import pandas as pd\n",
    "import seaborn as sns\n",
    "import pickle\n",
    "import time\n",
    "from matplotlib import pyplot as plt\n",
    "from scipy.sparse import csr_matrix\n",
    "from sklearn.model_selection import train_test_split, cross_val_score, StratifiedKFold, GridSearchCV\n",
    "from sklearn.metrics import accuracy_score, f1_score\n",
    "%matplotlib inline"
   ]
  },
  {
   "cell_type": "code",
   "execution_count": 2,
   "metadata": {},
   "outputs": [],
   "source": [
    "PATH_TO_DATA = 'capstone_user_identification'"
   ]
  },
  {
   "cell_type": "markdown",
   "metadata": {},
   "source": [
    "## 1. Comparison of several algorithms in sessions of 10 sites"
   ]
  },
  {
   "cell_type": "code",
   "execution_count": 3,
   "metadata": {},
   "outputs": [],
   "source": [
    "with open(os.path.join(PATH_TO_DATA, 'X_sparse_10users.pkl'), 'rb') as X_sparse_10users_pkl:\n",
    "    X_sparse_10users = pickle.load(X_sparse_10users_pkl)\n",
    "with open(os.path.join(PATH_TO_DATA, 'y_10users.pkl'), 'rb') as y_10users_pkl:\n",
    "    y_10users = pickle.load(y_10users_pkl)"
   ]
  },
  {
   "cell_type": "code",
   "execution_count": 4,
   "metadata": {},
   "outputs": [
    {
     "data": {
      "text/plain": [
       "(14061, 4913)"
      ]
     },
     "execution_count": 4,
     "metadata": {},
     "output_type": "execute_result"
    }
   ],
   "source": [
    "X_sparse_10users.shape"
   ]
  },
  {
   "cell_type": "markdown",
   "metadata": {},
   "source": [
    "**We divide the sample into 2 parts. On one, we will conduct cross-validation, on the second, we will evaluate the model trained after cross-validation.**"
   ]
  },
  {
   "cell_type": "code",
   "execution_count": 5,
   "metadata": {},
   "outputs": [],
   "source": [
    "X_train, X_valid, y_train, y_valid = train_test_split(X_sparse_10users, y_10users, test_size=0.3, \n",
    "                                                     random_state=17, stratify=y_10users)"
   ]
  },
  {
   "cell_type": "markdown",
   "metadata": {},
   "source": [
    "**We set the type of cross-validation in advance: 3-fold, with mixing, the parameter random_state = 17 - for reproducibility.**"
   ]
  },
  {
   "cell_type": "code",
   "execution_count": 6,
   "metadata": {},
   "outputs": [],
   "source": [
    "skf = StratifiedKFold(n_splits=3, shuffle=True, random_state=17)"
   ]
  },
  {
   "cell_type": "markdown",
   "metadata": {},
   "source": [
    "**A helper function for drawing validation curves after running GridSearchCV (or RandomizedCV).**"
   ]
  },
  {
   "cell_type": "code",
   "execution_count": 7,
   "metadata": {},
   "outputs": [],
   "source": [
    "def plot_validation_curves(param_values, grid_cv_results_):\n",
    "    train_mu, train_std = grid_cv_results_['mean_train_score'], grid_cv_results_['std_train_score']\n",
    "    valid_mu, valid_std = grid_cv_results_['mean_test_score'], grid_cv_results_['std_test_score']\n",
    "    train_line = plt.plot(param_values, train_mu, '-', label='train', color='green')\n",
    "    valid_line = plt.plot(param_values, valid_mu, '-', label='test', color='red')\n",
    "    plt.fill_between(param_values, train_mu - train_std, train_mu + train_std, edgecolor='none',\n",
    "                     facecolor=train_line[0].get_color(), alpha=0.2)\n",
    "    plt.fill_between(param_values, valid_mu - valid_std, valid_mu + valid_std, edgecolor='none',\n",
    "                     facecolor=valid_line[0].get_color(), alpha=0.2)\n",
    "    plt.legend()"
   ]
  },
  {
   "cell_type": "markdown",
   "metadata": {},
   "source": [
    "**We train the `KNeighborsClassifier` with 100 closest neighbors and show the portion of correct answers for 3x cross-validation:**"
   ]
  },
  {
   "cell_type": "code",
   "execution_count": 8,
   "metadata": {},
   "outputs": [],
   "source": [
    "from sklearn.neighbors import KNeighborsClassifier"
   ]
  },
  {
   "cell_type": "code",
   "execution_count": 9,
   "metadata": {},
   "outputs": [
    {
     "name": "stdout",
     "output_type": "stream",
     "text": [
      "Cross-validation: 0.559\n",
      "Validation sample: 0.584\n"
     ]
    }
   ],
   "source": [
    "knn = KNeighborsClassifier(100, n_jobs=-1)\n",
    "\n",
    "train_score = list()\n",
    "\n",
    "for train_indices, test_indices in skf.split(X_train, y_train):\n",
    "    knn.fit(X_train[train_indices], y_train[train_indices])\n",
    "    train_score.append(knn.score(X_train[test_indices].todense(), y_train[test_indices]))\n",
    "\n",
    "print('Cross-validation:', np.around(sum(train_score) / len(train_score), 3))\n",
    "\n",
    "knn.fit(X_train, y_train)\n",
    "\n",
    "print('Validation sample:', np.around(accuracy_score(y_valid, knn.predict(X_valid.todense())), 3))"
   ]
  },
  {
   "cell_type": "markdown",
   "metadata": {},
   "source": [
    "**Let's train a random forest (`RandomForestClassifier`) of 100 trees. Let's look at the OOB score and the portion of correct answers on the `(X_valid, y_valid)` sample:**"
   ]
  },
  {
   "cell_type": "code",
   "execution_count": 10,
   "metadata": {},
   "outputs": [],
   "source": [
    "from sklearn.ensemble import RandomForestClassifier"
   ]
  },
  {
   "cell_type": "code",
   "execution_count": 11,
   "metadata": {},
   "outputs": [
    {
     "name": "stdout",
     "output_type": "stream",
     "text": [
      "OOB: 0.717\n",
      "Accuracy on validation sample: 0.731\n"
     ]
    }
   ],
   "source": [
    "forest = RandomForestClassifier(100, random_state=17, oob_score=True, n_jobs=-1)\n",
    "\n",
    "forest.fit(X_train, y_train)\n",
    "\n",
    "print('OOB:', np.around(forest.oob_score_, 3))\n",
    "print('Accuracy on validation sample:', np.around(forest.score(X_valid.todense(), y_valid), 3))"
   ]
  },
  {
   "cell_type": "markdown",
   "metadata": {},
   "source": [
    "**Train Logistic Regression (`LogisticRegression`) with the default parameter` C`. Let's look at the portion of correct answers in cross-validation and in the `(X_valid, y_valid)` sample:**"
   ]
  },
  {
   "cell_type": "code",
   "execution_count": 12,
   "metadata": {},
   "outputs": [],
   "source": [
    "from sklearn.linear_model import LogisticRegression, LogisticRegressionCV"
   ]
  },
  {
   "cell_type": "code",
   "execution_count": 13,
   "metadata": {},
   "outputs": [
    {
     "name": "stdout",
     "output_type": "stream",
     "text": [
      "Cross-validation: 0.761\n",
      "Validation sample: 0.777\n"
     ]
    }
   ],
   "source": [
    "logit = LogisticRegression(random_state=17, n_jobs=-1)\n",
    "\n",
    "print('Cross-validation:', np.around(cross_val_score(logit, X_train, y_train, cv=skf).mean(), 3))\n",
    "\n",
    "logit.fit(X_train, y_train)\n",
    "print('Validation sample:', np.around(accuracy_score(y_valid, logit.predict(X_valid.todense())), 3))"
   ]
  },
  {
   "cell_type": "markdown",
   "metadata": {},
   "source": [
    "**For logistic regression, there are algorithms for quick selection of the regularization parameter `C` (faster than with` GridSearchCV`).**\n",
    "\n",
    "**Using `LogisticRegressionCV`, we select the `C` parameter for `LogisticRegression` in the range: 10 values from 1e-4 to 1e2:**"
   ]
  },
  {
   "cell_type": "code",
   "execution_count": 14,
   "metadata": {},
   "outputs": [
    {
     "name": "stdout",
     "output_type": "stream",
     "text": [
      "Wall time: 9.1 s\n"
     ]
    },
    {
     "data": {
      "text/plain": [
       "LogisticRegressionCV(Cs=array([1.00000000e-04, 4.64158883e-04, 2.15443469e-03, 1.00000000e-02,\n",
       "       4.64158883e-02, 2.15443469e-01, 1.00000000e+00, 4.64158883e+00,\n",
       "       2.15443469e+01, 1.00000000e+02]),\n",
       "                     class_weight=None,\n",
       "                     cv=StratifiedKFold(n_splits=3, random_state=17, shuffle=True),\n",
       "                     dual=False, fit_intercept=True, intercept_scaling=1.0,\n",
       "                     l1_ratios=None, max_iter=100, multi_class='multinomial',\n",
       "                     n_jobs=-1, penalty='l2', random_state=17, refit=True,\n",
       "                     scoring=None, solver='lbfgs', tol=0.0001, verbose=0)"
      ]
     },
     "execution_count": 14,
     "metadata": {},
     "output_type": "execute_result"
    }
   ],
   "source": [
    "%%time\n",
    "logit_c_values1 = np.logspace(-4, 2, 10)\n",
    "\n",
    "logit_grid_searcher1 = LogisticRegressionCV(Cs=logit_c_values1, random_state=17, n_jobs=-1, multi_class='multinomial', cv=skf)\n",
    "logit_grid_searcher1.fit(X_train, y_train)"
   ]
  },
  {
   "cell_type": "markdown",
   "metadata": {},
   "source": [
    "Average values of the portion of correct answers for cross-validation for each of the 10 parameters C:"
   ]
  },
  {
   "cell_type": "code",
   "execution_count": 15,
   "metadata": {},
   "outputs": [
    {
     "data": {
      "text/plain": [
       "[(0.31954964280669934, 0.0001),\n",
       " (0.4730739686244774, 0.00046415888336127773),\n",
       " (0.552022360820987, 0.002154434690031882),\n",
       " (0.6487503500073099, 0.01),\n",
       " (0.7143884597943816, 0.046415888336127774),\n",
       " (0.751779616813236, 0.21544346900318823),\n",
       " (0.7607206619536478, 1.0),\n",
       " (0.7585870731459524, 4.641588833612772),\n",
       " (0.7499505033910442, 21.54434690031882),\n",
       " (0.7399933839326202, 100.0)]"
      ]
     },
     "execution_count": 15,
     "metadata": {},
     "output_type": "execute_result"
    }
   ],
   "source": [
    "logit_mean_cv_scores1 = list()\n",
    "for i in range(len(logit_c_values1)):\n",
    "    logit_mean_cv_scores1.append((logit_grid_searcher1.scores_[31][:,0+i:1+i].mean(), logit_c_values1[i]))\n",
    "\n",
    "logit_mean_cv_scores1"
   ]
  },
  {
   "cell_type": "markdown",
   "metadata": {},
   "source": [
    "The best value of the portion of correct answers for cross-validation and the corresponding value of C:"
   ]
  },
  {
   "cell_type": "code",
   "execution_count": 16,
   "metadata": {},
   "outputs": [
    {
     "name": "stdout",
     "output_type": "stream",
     "text": [
      "Accuracy: 0.7607206619536478, C: 1.0\n"
     ]
    }
   ],
   "source": [
    "print('Accuracy: {0}, C: {1}'.format(*max(logit_mean_cv_scores1)))"
   ]
  },
  {
   "cell_type": "markdown",
   "metadata": {},
   "source": [
    "Graph of the portion of correct answers for cross-validation on `C` (validation curve):"
   ]
  },
  {
   "cell_type": "code",
   "execution_count": 17,
   "metadata": {},
   "outputs": [
    {
     "data": {
      "image/png": "[encoded data removed]",
      "text/plain": [
       "<Figure size 432x288 with 1 Axes>"
      ]
     },
     "metadata": {
      "needs_background": "light"
     },
     "output_type": "display_data"
    }
   ],
   "source": [
    "plt.plot(logit_c_values1, [acc[0] for acc in logit_mean_cv_scores1]);\n",
    "plt.xlabel('C values')\n",
    "plt.ylabel('Accuracy')\n",
    "plt.show()"
   ]
  },
  {
   "cell_type": "markdown",
   "metadata": {},
   "source": [
    "**Now the same thing, only the values ​​of the parameter C are sorted in the range: 20 values from 0.1 to 7:**"
   ]
  },
  {
   "cell_type": "code",
   "execution_count": 18,
   "metadata": {},
   "outputs": [
    {
     "name": "stdout",
     "output_type": "stream",
     "text": [
      "Wall time: 23.8 s\n"
     ]
    },
    {
     "data": {
      "text/plain": [
       "LogisticRegressionCV(Cs=array([0.1       , 0.46315789, 0.82631579, 1.18947368, 1.55263158,\n",
       "       1.91578947, 2.27894737, 2.64210526, 3.00526316, 3.36842105,\n",
       "       3.73157895, 4.09473684, 4.45789474, 4.82105263, 5.18421053,\n",
       "       5.54736842, 5.91052632, 6.27368421, 6.63684211, 7.        ]),\n",
       "                     class_weight=None,\n",
       "                     cv=StratifiedKFold(n_splits=3, random_state=17, shuffle=True),\n",
       "                     dual=False, fit_intercept=True, intercept_scaling=1.0,\n",
       "                     l1_ratios=None, max_iter=100, multi_class='multinomial',\n",
       "                     n_jobs=-1, penalty='l2', random_state=17, refit=True,\n",
       "                     scoring=None, solver='lbfgs', tol=0.0001, verbose=0)"
      ]
     },
     "execution_count": 18,
     "metadata": {},
     "output_type": "execute_result"
    }
   ],
   "source": [
    "%%time\n",
    "logit_c_values2 = np.linspace(0.1, 7, 20)\n",
    "\n",
    "logit_grid_searcher2 = LogisticRegressionCV(Cs=logit_c_values2, random_state=17, n_jobs=-1, multi_class='multinomial', cv=skf)\n",
    "logit_grid_searcher2.fit(X_train, y_train)"
   ]
  },
  {
   "cell_type": "markdown",
   "metadata": {},
   "source": [
    "Average values of the portion of correct answers for cross-validation for each of the 10 `C` parameters:"
   ]
  },
  {
   "cell_type": "code",
   "execution_count": 19,
   "metadata": {},
   "outputs": [
    {
     "data": {
      "text/plain": [
       "[(0.7348111695076108, 0.1),\n",
       " (0.7592981455187914, 0.4631578947368421),\n",
       " (0.7612286681385559, 0.8263157894736842),\n",
       " (0.7609237591156771, 1.1894736842105265),\n",
       " (0.7613302322066194, 1.5526315789473686),\n",
       " (0.7614319201710762, 1.9157894736842107),\n",
       " (0.7599077467458613, 2.278947368421053),\n",
       " (0.7593997405609533, 2.642105263157895),\n",
       " (0.7597045256874391, 3.005263157894737),\n",
       " (0.7592982074669878, 3.368421052631579),\n",
       " (0.7591966124248257, 3.7315789473684213),\n",
       " (0.7585869802236577, 4.094736842105263),\n",
       " (0.757774188912264, 4.457894736842105),\n",
       " (0.7573678706918127, 4.821052631578947),\n",
       " (0.7569614285749685, 5.184210526315789),\n",
       " (0.7560469802732164, 5.5473684210526315),\n",
       " (0.755437440994343, 5.910526315789474),\n",
       " (0.7551326558678572, 6.273684210526316),\n",
       " (0.754116612523943, 6.636842105263158),\n",
       " (0.7533037282902546, 7.0)]"
      ]
     },
     "execution_count": 19,
     "metadata": {},
     "output_type": "execute_result"
    }
   ],
   "source": [
    "logit_mean_cv_scores2 = list()\n",
    "for i in range(len(logit_c_values2)):\n",
    "    # 31 - user id\n",
    "    logit_mean_cv_scores2.append((logit_grid_searcher2.scores_[31][:,0+i:1+i].mean(), logit_c_values2[i]))\n",
    "\n",
    "logit_mean_cv_scores2"
   ]
  },
  {
   "cell_type": "markdown",
   "metadata": {},
   "source": [
    "The best value of the portion of correct answers for cross-validation and the corresponding value of `C`:"
   ]
  },
  {
   "cell_type": "code",
   "execution_count": 20,
   "metadata": {},
   "outputs": [
    {
     "name": "stdout",
     "output_type": "stream",
     "text": [
      "Accuracy: 0.7614319201710762, C: 1.9157894736842107\n"
     ]
    }
   ],
   "source": [
    "print('Accuracy: {0}, C: {1}'.format(*max(logit_mean_cv_scores2)))"
   ]
  },
  {
   "cell_type": "markdown",
   "metadata": {},
   "source": [
    "Graph of the portion of correct answers for cross-validation on `C` (validation curve):"
   ]
  },
  {
   "cell_type": "code",
   "execution_count": 21,
   "metadata": {},
   "outputs": [
    {
     "data": {
      "image/png": "[encoded data removed]",
      "text/plain": [
       "<Figure size 432x288 with 1 Axes>"
      ]
     },
     "metadata": {
      "needs_background": "light"
     },
     "output_type": "display_data"
    }
   ],
   "source": [
    "plt.plot(logit_c_values2, [acc[0] for acc in logit_mean_cv_scores2]);\n",
    "plt.xlabel('C values')\n",
    "plt.ylabel('Accuracy')\n",
    "plt.show()"
   ]
  },
  {
   "cell_type": "markdown",
   "metadata": {},
   "source": [
    "The portion of correct answers in the sample `(X_valid, y_valid)` for logistic regression with the best value found for `C`:"
   ]
  },
  {
   "cell_type": "code",
   "execution_count": 22,
   "metadata": {},
   "outputs": [
    {
     "data": {
      "text/plain": [
       "0.7802796871296516"
      ]
     },
     "execution_count": 22,
     "metadata": {},
     "output_type": "execute_result"
    }
   ],
   "source": [
    "logit_cv_acc = accuracy_score(y_valid, logit_grid_searcher2.predict(X_valid))\n",
    "logit_cv_acc"
   ]
  },
  {
   "cell_type": "markdown",
   "metadata": {},
   "source": [
    "Portion of correct responses for `logit_grid_searcher` on cross-validation for the best value of the `C` parameter and on validation sample:"
   ]
  },
  {
   "cell_type": "code",
   "execution_count": 23,
   "metadata": {},
   "outputs": [
    {
     "name": "stdout",
     "output_type": "stream",
     "text": [
      "Cross-validation: 0.768\n",
      "Validation sample: 0.78\n"
     ]
    }
   ],
   "source": [
    "print('Cross-validation:', np.around(cross_val_score(logit_grid_searcher2, X_train, y_train).mean(), 3))\n",
    "print('Validation sample:', np.around(logit_cv_acc, 3))"
   ]
  },
  {
   "cell_type": "markdown",
   "metadata": {},
   "source": [
    "**Let's train linear SVM (`LinearSVC`) with parameter `C` = 1. Let's look at the portion of correct answers in cross-validation and in the sample `(X_valid, y_valid)`:**"
   ]
  },
  {
   "cell_type": "code",
   "execution_count": 24,
   "metadata": {},
   "outputs": [],
   "source": [
    "from sklearn.svm import LinearSVC"
   ]
  },
  {
   "cell_type": "code",
   "execution_count": 25,
   "metadata": {},
   "outputs": [
    {
     "name": "stdout",
     "output_type": "stream",
     "text": [
      "Cross-validation: 0.7507639141844025\n",
      "Validation sample: 0.7769613652524295\n"
     ]
    }
   ],
   "source": [
    "svm = LinearSVC(C=1, random_state=17)\n",
    "print('Cross-validation:', cross_val_score(svm, X_train, y_train, cv=skf, n_jobs=-1).mean())\n",
    "print('Validation sample:', accuracy_score(y_valid, svm.fit(X_train, y_train).predict(X_valid)))"
   ]
  },
  {
   "cell_type": "markdown",
   "metadata": {},
   "source": [
    "**Using `GridSearchCV` we select the `C` parameter for SVM first in a wide range: 10 values from 1e-4 to 1e4:**"
   ]
  },
  {
   "cell_type": "code",
   "execution_count": 26,
   "metadata": {},
   "outputs": [
    {
     "name": "stdout",
     "output_type": "stream",
     "text": [
      "Wall time: 37.5 s\n"
     ]
    },
    {
     "data": {
      "text/plain": [
       "GridSearchCV(cv=None, error_score=nan,\n",
       "             estimator=LinearSVC(C=1, class_weight=None, dual=True,\n",
       "                                 fit_intercept=True, intercept_scaling=1,\n",
       "                                 loss='squared_hinge', max_iter=1000,\n",
       "                                 multi_class='ovr', penalty='l2',\n",
       "                                 random_state=17, tol=0.0001, verbose=0),\n",
       "             iid='deprecated', n_jobs=-1,\n",
       "             param_grid={'C': array([1.0000000e-04, 1.1111112e+03, 2.2222223e+03, 3.3333334e+03,\n",
       "       4.4444445e+03, 5.5555556e+03, 6.6666667e+03, 7.7777778e+03,\n",
       "       8.8888889e+03, 1.0000000e+04])},\n",
       "             pre_dispatch='2*n_jobs', refit=True, return_train_score=True,\n",
       "             scoring=None, verbose=0)"
      ]
     },
     "execution_count": 26,
     "metadata": {},
     "output_type": "execute_result"
    }
   ],
   "source": [
    "%%time\n",
    "svm_params1 = {'C': np.linspace(1e-4, 1e4, 10)}\n",
    "\n",
    "svm_grid_searcher1 = GridSearchCV(svm, svm_params1, n_jobs=-1, return_train_score=True)\n",
    "svm_grid_searcher1.fit(X_train, y_train)"
   ]
  },
  {
   "cell_type": "markdown",
   "metadata": {},
   "source": [
    "The best value of the portion of correct answers for cross-validation and the corresponding value of `C`:"
   ]
  },
  {
   "cell_type": "code",
   "execution_count": 27,
   "metadata": {},
   "outputs": [
    {
     "data": {
      "text/plain": [
       "0.6730328659961394"
      ]
     },
     "execution_count": 27,
     "metadata": {},
     "output_type": "execute_result"
    }
   ],
   "source": [
    "cross_val_score(svm_grid_searcher1.best_estimator_, X_train, y_train, cv=skf).mean()"
   ]
  },
  {
   "cell_type": "markdown",
   "metadata": {},
   "source": [
    "Graph of the portion of correct answers for cross-validation on `C`:"
   ]
  },
  {
   "cell_type": "code",
   "execution_count": 28,
   "metadata": {},
   "outputs": [
    {
     "data": {
      "image/png": "[encoded data removed]",
      "text/plain": [
       "<Figure size 432x288 with 1 Axes>"
      ]
     },
     "metadata": {
      "needs_background": "light"
     },
     "output_type": "display_data"
    }
   ],
   "source": [
    "plot_validation_curves(svm_params1['C'], svm_grid_searcher1.cv_results_)"
   ]
  },
  {
   "cell_type": "markdown",
   "metadata": {},
   "source": [
    "**Using `GridSearchCV` we select the `C` parameter for SVM in the range (1e-3, 1), 30 values:**"
   ]
  },
  {
   "cell_type": "code",
   "execution_count": 29,
   "metadata": {},
   "outputs": [
    {
     "name": "stdout",
     "output_type": "stream",
     "text": [
      "Wall time: 52.3 s\n"
     ]
    },
    {
     "data": {
      "text/plain": [
       "GridSearchCV(cv=None, error_score=nan,\n",
       "             estimator=LinearSVC(C=1, class_weight=None, dual=True,\n",
       "                                 fit_intercept=True, intercept_scaling=1,\n",
       "                                 loss='squared_hinge', max_iter=1000,\n",
       "                                 multi_class='ovr', penalty='l2',\n",
       "                                 random_state=17, tol=0.0001, verbose=0),\n",
       "             iid='deprecated', n_jobs=-1,\n",
       "             param_grid={'C': array([0.001     , 0.03544828, 0.06989655, 0.10434483, 0.1387931 ,\n",
       "       0.17324138, 0.20768966, 0.24213793, 0.27658621, 0.31103448,\n",
       "       0.34548276, 0.37993103, 0.41437931, 0.44882759, 0.48327586,\n",
       "       0.51772414, 0.55217241, 0.58662069, 0.62106897, 0.65551724,\n",
       "       0.68996552, 0.72441379, 0.75886207, 0.79331034, 0.82775862,\n",
       "       0.8622069 , 0.89665517, 0.93110345, 0.96555172, 1.        ])},\n",
       "             pre_dispatch='2*n_jobs', refit=True, return_train_score=True,\n",
       "             scoring=None, verbose=0)"
      ]
     },
     "execution_count": 29,
     "metadata": {},
     "output_type": "execute_result"
    }
   ],
   "source": [
    "%%time\n",
    "svm_params2 = {'C': np.linspace(1e-3, 1, 30)}\n",
    "\n",
    "svm_grid_searcher2 = GridSearchCV(svm, svm_params2, n_jobs=-1, return_train_score=True)\n",
    "svm_grid_searcher2.fit(X_train, y_train)"
   ]
  },
  {
   "cell_type": "markdown",
   "metadata": {},
   "source": [
    "The best value of the portion of correct answers for cross-validation and the corresponding value of `C`:"
   ]
  },
  {
   "cell_type": "code",
   "execution_count": 30,
   "metadata": {},
   "outputs": [
    {
     "data": {
      "text/plain": [
       "0.7670206386611259"
      ]
     },
     "execution_count": 30,
     "metadata": {},
     "output_type": "execute_result"
    }
   ],
   "source": [
    "cross_val_score(svm_grid_searcher2.best_estimator_, X_train, y_train, cv=skf).mean()"
   ]
  },
  {
   "cell_type": "markdown",
   "metadata": {},
   "source": [
    "Graph of the portion of correct answers for cross-validation from C:"
   ]
  },
  {
   "cell_type": "code",
   "execution_count": 31,
   "metadata": {},
   "outputs": [
    {
     "data": {
      "image/png": "[encoded data removed]",
      "text/plain": [
       "<Figure size 432x288 with 1 Axes>"
      ]
     },
     "metadata": {
      "needs_background": "light"
     },
     "output_type": "display_data"
    }
   ],
   "source": [
    "plot_validation_curves(svm_params2['C'], svm_grid_searcher2.cv_results_)"
   ]
  },
  {
   "cell_type": "markdown",
   "metadata": {},
   "source": [
    "The portion of correct answers in the selection `(X_valid, y_valid)` for `LinearSVC` with the best value found for `C`:"
   ]
  },
  {
   "cell_type": "code",
   "execution_count": 32,
   "metadata": {},
   "outputs": [],
   "source": [
    "svm_cv_acc = accuracy_score(y_valid, svm_grid_searcher2.predict(X_valid))"
   ]
  },
  {
   "cell_type": "markdown",
   "metadata": {},
   "source": [
    "The portion of correct answers for `svm_grid_searcher2` on cross-validation for the best value of the `C` parameter and on validation sample:"
   ]
  },
  {
   "cell_type": "code",
   "execution_count": 33,
   "metadata": {},
   "outputs": [
    {
     "name": "stdout",
     "output_type": "stream",
     "text": [
      "Cross-validation: 0.767\n",
      "Validation sample: 0.781\n"
     ]
    }
   ],
   "source": [
    "print('Cross-validation:', np.around(cross_val_score(svm_grid_searcher2.best_estimator_, X_train, y_train, cv=skf).mean(), 3))\n",
    "print('Validation sample:', np.around(svm_cv_acc, 3))"
   ]
  },
  {
   "cell_type": "markdown",
   "metadata": {},
   "source": [
    "## 2. Choice of parameters - session length and window width"
   ]
  },
  {
   "cell_type": "markdown",
   "metadata": {},
   "source": [
    "**Let's take `LinearSVC`, which showed the best quality in cross-validation in the previous part, and test its performance on 8 more samples for 10 users (with different combinations of parameters *session_length* and *window_size*).**"
   ]
  },
  {
   "cell_type": "code",
   "execution_count": 34,
   "metadata": {},
   "outputs": [],
   "source": [
    "def model_assessment(estimator, path_to_X_pickle, path_to_y_pickle, cv, random_state=17, test_size=0.3):\n",
    "    '''\n",
    "    Estimates CV-accuracy for (1 - test_size) share of (X_sparse, y) \n",
    "    loaded from path_to_X_pickle and path_to_y_pickle and holdout accuracy for (test_size) share of (X_sparse, y).\n",
    "    The split is made with stratified train_test_split with params random_state and test_size.\n",
    "    \n",
    "    :param estimator – Scikit-learn estimator (classifier or regressor)\n",
    "    :param path_to_X_pickle – path to pickled sparse X (instances and their features)\n",
    "    :param path_to_y_pickle – path to pickled y (responses)\n",
    "    :param cv – cross-validation as in cross_val_score (use StratifiedKFold here)\n",
    "    :param random_state –  for train_test_split\n",
    "    :param test_size –  for train_test_split\n",
    "    \n",
    "    :returns mean CV-accuracy for (X_train, y_train) and accuracy for (X_valid, y_valid) where (X_train, y_train)\n",
    "    and (X_valid, y_valid) are (1 - test_size) and (testsize) shares of (X_sparse, y). \n",
    "    Also returns the execution time of the function.\n",
    "    '''\n",
    "    time_start = time.time()\n",
    "    \n",
    "    with open(path_to_X_pickle, 'rb') as f1, open(path_to_y_pickle, 'rb') as f2:       \n",
    "        X_sparse = pickle.load(f1)\n",
    "        y = pickle.load(f2)\n",
    "    \n",
    "    X_train, X_valid, y_train, y_valid = train_test_split(X_sparse, y, test_size=test_size,\n",
    "                                                          random_state=random_state, stratify=y)\n",
    "    \n",
    "    estimator.fit(X_train, y_train)\n",
    "    \n",
    "    mean_cv_acc = cross_val_score(estimator, X_train, y_train, cv=cv).mean()\n",
    "    valid_acc = accuracy_score(y_valid, estimator.predict(X_valid))\n",
    "    \n",
    "    return np.around((mean_cv_acc, valid_acc), 3), np.around(time.time() - time_start, 3)\n"
   ]
  },
  {
   "cell_type": "markdown",
   "metadata": {},
   "source": [
    "For convenience, create copies of the previously created pickle files X_sparse_10users.pkl, X_sparse_150users.pkl, y_10users.pkl and y_150users.pkl, adding s10_w10 to their names, which means a session length of 10 and a window width of 10:"
   ]
  },
  {
   "cell_type": "code",
   "execution_count": 35,
   "metadata": {},
   "outputs": [],
   "source": [
    "!cp $PATH_TO_DATA/X_sparse_10users.pkl $PATH_TO_DATA/X_sparse_10users_s10_w10.pkl \n",
    "!cp $PATH_TO_DATA/X_sparse_150users.pkl $PATH_TO_DATA/X_sparse_150users_s10_w10.pkl \n",
    "!cp $PATH_TO_DATA/y_10users.pkl $PATH_TO_DATA/y_10users_s10_w10.pkl \n",
    "!cp $PATH_TO_DATA/y_150users.pkl $PATH_TO_DATA/y_150users_s10_w10.pkl "
   ]
  },
  {
   "cell_type": "code",
   "execution_count": 36,
   "metadata": {},
   "outputs": [
    {
     "name": "stdout",
     "output_type": "stream",
     "text": [
      "15 10 (array([0.824, 0.84 ]), 3.234)\n",
      "10 10 (array([0.767, 0.781]), 1.842)\n",
      "15 7 (array([0.85 , 0.854]), 4.406)\n",
      "10 7 (array([0.798, 0.807]), 2.445)\n",
      "7 7 (array([0.755, 0.762]), 1.543)\n",
      "15 5 (array([0.867, 0.875]), 5.789)\n",
      "10 5 (array([0.818, 0.825]), 3.346)\n",
      "7 5 (array([0.773, 0.785]), 2.08)\n",
      "5 5 (array([0.725, 0.736]), 1.391)\n",
      "Wall time: 26.1 s\n"
     ]
    }
   ],
   "source": [
    "%%time\n",
    "estimator = svm_grid_searcher2.best_estimator_\n",
    "\n",
    "for window_size, session_length in itertools.product([10, 7, 5], [15, 10, 7, 5]):\n",
    "    if window_size <= session_length:\n",
    "        path_to_X_pkl = f'X_sparse_10users_s{session_length}_w{window_size}.pkl'\n",
    "        path_to_y_pkl = f'y_10users_s{session_length}_w{window_size}.pkl'\n",
    "        print(session_length, window_size, \n",
    "             model_assessment(estimator, os.path.join(PATH_TO_DATA, path_to_X_pkl),\n",
    "        os.path.join(PATH_TO_DATA, path_to_y_pkl), skf, random_state=17, test_size=0.3))"
   ]
  },
  {
   "cell_type": "code",
   "execution_count": 37,
   "metadata": {},
   "outputs": [
    {
     "name": "stdout",
     "output_type": "stream",
     "text": [
      "5 5 (array([0.725, 0.736]), 1.399)\n",
      "7 7 (array([0.755, 0.762]), 1.571)\n",
      "10 10 (array([0.767, 0.781]), 1.82)\n",
      "Wall time: 4.79 s\n"
     ]
    }
   ],
   "source": [
    "%%time\n",
    "estimator = svm_grid_searcher2.best_estimator_\n",
    "\n",
    "for window_size, session_length in [(5,5), (7,7), (10,10)]:\n",
    "    path_to_X_pkl = f'X_sparse_10users_s{session_length}_w{window_size}.pkl'\n",
    "    path_to_y_pkl = f'y_10users_s{session_length}_w{window_size}.pkl'\n",
    "    print(session_length, window_size, model_assessment(estimator, os.path.join(PATH_TO_DATA, path_to_X_pkl),\n",
    "        os.path.join(PATH_TO_DATA, path_to_y_pkl), skf, random_state=17, test_size=0.3))"
   ]
  },
  {
   "cell_type": "code",
   "execution_count": 38,
   "metadata": {},
   "outputs": [
    {
     "name": "stdout",
     "output_type": "stream",
     "text": [
      "5 5 (array([0.408, 0.422]), 306.1)\n",
      "7 7 (array([0.437, 0.453]), 266.64)\n",
      "10 10 (array([0.463, 0.484]), 249.24)\n",
      "Wall time: 13min 41s\n"
     ]
    }
   ],
   "source": [
    "%%time\n",
    "estimator = svm_grid_searcher2.best_estimator_\n",
    "\n",
    "for window_size, session_length in [(5,5), (7,7), (10,10)]:\n",
    "    path_to_X_pkl = f'X_sparse_150users_s{session_length}_w{window_size}.pkl'\n",
    "    path_to_y_pkl = f'y_150users_s{session_length}_w{window_size}.pkl'\n",
    "    print(session_length, window_size, model_assessment(estimator, os.path.join(PATH_TO_DATA, path_to_X_pkl),\n",
    "        os.path.join(PATH_TO_DATA, path_to_y_pkl), skf, random_state=17, test_size=0.3))"
   ]
  },
  {
   "cell_type": "markdown",
   "metadata": {},
   "source": [
    "According to a sample of 10 users, with increasing session length and window width, the accuracy of the algorithm increases to a greater and lesser extent, respectively. It is also seen that the accuracy of the prediction of the algorithm fell markedly on a sample of 150 users."
   ]
  },
  {
   "cell_type": "markdown",
   "metadata": {},
   "source": [
    "## 3. Identification of a specific user and learning curves"
   ]
  },
  {
   "cell_type": "code",
   "execution_count": 39,
   "metadata": {},
   "outputs": [],
   "source": [
    "with open(os.path.join(PATH_TO_DATA, 'X_sparse_150users.pkl'), 'rb') as X_sparse_150users_pkl:\n",
    "     X_sparse_150users = pickle.load(X_sparse_150users_pkl)\n",
    "with open(os.path.join(PATH_TO_DATA, 'y_150users.pkl'), 'rb') as y_150users_pkl:\n",
    "    y_150users = pickle.load(y_150users_pkl)"
   ]
  },
  {
   "cell_type": "code",
   "execution_count": 40,
   "metadata": {},
   "outputs": [],
   "source": [
    "X_train_150, X_valid_150, y_train_150, y_valid_150 = train_test_split(X_sparse_150users, y_150users, test_size=0.3, \n",
    "                                                     random_state=17, stratify=y_150users)"
   ]
  },
  {
   "cell_type": "markdown",
   "metadata": {},
   "source": [
    "**We will train `LogisticRegressionCV` for one value of the `C` parameter (selected in section 1). We will solve 150 One-to-All problems, so we will specify the argument `multi_class` = 'ovr'**"
   ]
  },
  {
   "cell_type": "code",
   "execution_count": 41,
   "metadata": {},
   "outputs": [
    {
     "name": "stdout",
     "output_type": "stream",
     "text": [
      "Wall time: 4min 35s\n"
     ]
    },
    {
     "data": {
      "text/plain": [
       "LogisticRegressionCV(Cs=[1.9157894736842107], class_weight=None,\n",
       "                     cv=StratifiedKFold(n_splits=3, random_state=17, shuffle=True),\n",
       "                     dual=False, fit_intercept=True, intercept_scaling=1.0,\n",
       "                     l1_ratios=None, max_iter=100, multi_class='ovr', n_jobs=-1,\n",
       "                     penalty='l2', random_state=17, refit=True, scoring=None,\n",
       "                     solver='lbfgs', tol=0.0001, verbose=0)"
      ]
     },
     "execution_count": 41,
     "metadata": {},
     "output_type": "execute_result"
    }
   ],
   "source": [
    "%%time\n",
    "logit_cv_150users = LogisticRegressionCV(Cs=[logit_grid_searcher2.C_[0]], multi_class='ovr', \n",
    "                                         n_jobs=-1, random_state=17, cv=skf)\n",
    "logit_cv_150users.fit(X_train_150, y_train_150)"
   ]
  },
  {
   "cell_type": "markdown",
   "metadata": {},
   "source": [
    "Average portions of correct responses to cross-validation in the task of identifying each user individually:"
   ]
  },
  {
   "cell_type": "code",
   "execution_count": 42,
   "metadata": {},
   "outputs": [
    {
     "name": "stdout",
     "output_type": "stream",
     "text": [
      "User 6, CV score: 0.9960797806345333\n",
      "User 13, CV score: 0.9963091551718745\n",
      "User 15, CV score: 0.995256117523172\n",
      "User 16, CV score: 0.9918467778090561\n",
      "User 28, CV score: 0.9903558433163387\n",
      "User 31, CV score: 0.9944011760658097\n",
      "User 33, CV score: 0.9937651830304547\n",
      "User 39, CV score: 0.9858830398381867\n",
      "User 46, CV score: 0.9980398903172666\n",
      "User 49, CV score: 0.9951935608311699\n",
      "User 50, CV score: 0.9943281932584739\n",
      "User 53, CV score: 0.9937130524537862\n",
      "User 65, CV score: 0.9969451482072295\n",
      "User 66, CV score: 0.9948077945638234\n",
      "User 82, CV score: 0.9963717118638766\n",
      "User 85, CV score: 0.9963717118638766\n",
      "User 89, CV score: 0.9908771490830232\n",
      "User 92, CV score: 0.994422028296477\n",
      "User 100, CV score: 0.9944950111038128\n",
      "User 102, CV score: 0.9911586541970326\n",
      "User 103, CV score: 0.9805448687873385\n",
      "User 105, CV score: 0.9969034437458948\n",
      "User 106, CV score: 0.9948494990251583\n",
      "User 118, CV score: 0.9909292796596917\n",
      "User 119, CV score: 0.9965906602858841\n",
      "User 120, CV score: 0.994286488797139\n",
      "User 126, CV score: 0.9950684474471657\n",
      "User 127, CV score: 0.9916069771563812\n",
      "User 128, CV score: 0.9846944626901463\n",
      "User 138, CV score: 0.9970598354759\n",
      "User 158, CV score: 0.9970598354759\n",
      "User 160, CV score: 0.9968200348232252\n",
      "User 165, CV score: 0.997362192820577\n",
      "User 172, CV score: 0.9964863991325471\n",
      "User 177, CV score: 0.9967679042465568\n",
      "User 203, CV score: 0.9975707151272508\n",
      "User 207, CV score: 0.9877805928289178\n",
      "User 223, CV score: 0.9965489558245494\n",
      "User 233, CV score: 0.9963195812872082\n",
      "User 235, CV score: 0.9966636430932199\n",
      "User 236, CV score: 0.9900222076256607\n",
      "User 237, CV score: 0.9894174929363068\n",
      "User 238, CV score: 0.9962465984798724\n",
      "User 240, CV score: 0.9957461449438553\n",
      "User 241, CV score: 0.9959650933658629\n",
      "User 242, CV score: 0.9951622824851688\n",
      "User 245, CV score: 0.9960067978271976\n",
      "User 246, CV score: 0.997028557129899\n",
      "User 249, CV score: 0.9950058907551634\n",
      "User 252, CV score: 0.9964968252478809\n",
      "User 254, CV score: 0.9920135956543952\n",
      "User 256, CV score: 0.9961110589805345\n",
      "User 258, CV score: 0.9959338150198618\n",
      "User 259, CV score: 0.9949120557171603\n",
      "User 260, CV score: 0.9973934711665781\n",
      "User 261, CV score: 0.9897719808576523\n",
      "User 263, CV score: 0.9927955543044217\n",
      "User 264, CV score: 0.9966010864012178\n",
      "User 269, CV score: 0.987175878139564\n",
      "User 270, CV score: 0.9894070668209732\n",
      "User 273, CV score: 0.994390749950476\n",
      "User 287, CV score: 0.9901681732403323\n",
      "User 294, CV score: 0.9957461449438553\n",
      "User 298, CV score: 0.9912629153503696\n",
      "User 301, CV score: 0.9972162272059054\n",
      "User 308, CV score: 0.9957044404825206\n",
      "User 315, CV score: 0.9975498628965833\n",
      "User 318, CV score: 0.9958921105585269\n",
      "User 327, CV score: 0.9966427908625525\n",
      "User 332, CV score: 0.9968096087078915\n",
      "User 333, CV score: 0.9962674507105397\n",
      "User 339, CV score: 0.9971223921679022\n",
      "User 340, CV score: 0.9967053475545545\n",
      "User 342, CV score: 0.99225339630707\n",
      "User 344, CV score: 0.9966532169778862\n",
      "User 351, CV score: 0.99245149249841\n",
      "User 356, CV score: 0.9976019934732517\n",
      "User 361, CV score: 0.9965802341705504\n",
      "User 363, CV score: 0.9964863991325471\n",
      "User 411, CV score: 0.9912316370043684\n",
      "User 417, CV score: 0.9967261997852219\n",
      "User 425, CV score: 0.9942135059898032\n",
      "User 430, CV score: 0.9962674507105399\n",
      "User 435, CV score: 0.9970389832452327\n",
      "User 436, CV score: 0.9951727086005026\n",
      "User 440, CV score: 0.9970389832452327\n",
      "User 444, CV score: 0.9978105157799256\n",
      "User 475, CV score: 0.9892819534369689\n",
      "User 476, CV score: 0.9969868526685642\n",
      "User 486, CV score: 0.9954125092531774\n",
      "User 515, CV score: 0.9942135059898032\n",
      "User 533, CV score: 0.9937964613764558\n",
      "User 561, CV score: 0.9844859403834724\n",
      "User 563, CV score: 0.9968304609385589\n",
      "User 564, CV score: 0.9956835882518532\n",
      "User 568, CV score: 0.9917425166557193\n",
      "User 569, CV score: 0.9893132317829699\n",
      "User 570, CV score: 0.9982901170852752\n",
      "User 573, CV score: 0.9907728879296863\n",
      "User 575, CV score: 0.9900639120869954\n",
      "User 576, CV score: 0.9941718015284685\n",
      "User 580, CV score: 0.9867171290648816\n",
      "User 583, CV score: 0.9808159477860143\n",
      "User 584, CV score: 0.9811808618226935\n",
      "User 600, CV score: 0.9914922898877108\n",
      "User 603, CV score: 0.9957044404825206\n",
      "User 605, CV score: 0.9975290106659159\n",
      "User 640, CV score: 0.9972579316672402\n",
      "User 647, CV score: 0.9976436979345866\n",
      "User 653, CV score: 0.9973934711665781\n",
      "User 664, CV score: 0.9952144130618373\n",
      "User 665, CV score: 0.9969138698612284\n",
      "User 677, CV score: 0.9966323647472187\n",
      "User 692, CV score: 0.9969347220918957\n",
      "User 697, CV score: 0.9959859455965301\n",
      "User 705, CV score: 0.9964342685558788\n",
      "User 722, CV score: 0.9947035334104865\n",
      "User 740, CV score: 0.996694921439221\n",
      "User 741, CV score: 0.9968513131692264\n",
      "User 756, CV score: 0.9955793270985164\n",
      "User 780, CV score: 0.9965489558245494\n",
      "User 784, CV score: 0.9966532169778862\n",
      "User 785, CV score: 0.9969555743225631\n",
      "User 797, CV score: 0.995756571059189\n",
      "User 812, CV score: 0.9949120557171603\n",
      "User 844, CV score: 0.9970285571298989\n",
      "User 859, CV score: 0.9981337253552699\n",
      "User 868, CV score: 0.9965489558245494\n",
      "User 875, CV score: 0.9957148665978544\n",
      "User 932, CV score: 0.9905018089310104\n",
      "User 996, CV score: 0.9933168600711061\n",
      "User 1014, CV score: 0.9971328182832359\n",
      "User 1040, CV score: 0.9970389832452327\n",
      "User 1054, CV score: 0.9964759730172136\n",
      "User 1248, CV score: 0.9977375329725898\n",
      "User 1267, CV score: 0.9973309144745759\n",
      "User 1299, CV score: 0.996924295976562\n",
      "User 1371, CV score: 0.9934106951091093\n",
      "User 1797, CV score: 0.994891203486493\n",
      "User 1798, CV score: 0.99666364309322\n",
      "User 1993, CV score: 0.9967991825925578\n",
      "User 2118, CV score: 0.9978522202412603\n",
      "User 2174, CV score: 0.995860832212526\n",
      "User 2191, CV score: 0.9952456914078384\n",
      "User 2250, CV score: 0.9973413405899096\n",
      "User 2355, CV score: 0.995860832212526\n",
      "User 2408, CV score: 0.9937443307997874\n",
      "User 2493, CV score: 0.9966010864012178\n",
      "User 2625, CV score: 0.9961423373265355\n",
      "User 2902, CV score: 0.9971223921679022\n"
     ]
    }
   ],
   "source": [
    "cv_scores_by_user = {}\n",
    "for user_id in logit_cv_150users.scores_:\n",
    "    cv_scores_by_user[user_id] = logit_cv_150users.scores_[user_id].mean()\n",
    "    print('User {0}, CV score: {1}'.format(user_id, logit_cv_150users.scores_[user_id].mean()))"
   ]
  },
  {
   "cell_type": "markdown",
   "metadata": {},
   "source": [
    "**The results seem impressive, but perhaps we forget about the class imbalance, and a high portion of correct answers can be obtained by constant prediction. Calculate for each user the difference between the portion of correct responses to cross-validation (just calculated using `LogisticRegressionCV`) and the portion of tags in *y_train_150* other than ID \n",
    " this user (this is the portion of correct answers you can get if the classifier always \"says\" that it is not the user with the number $i$ in the classification problem $i$ - vs-All).**"
   ]
  },
  {
   "cell_type": "code",
   "execution_count": 43,
   "metadata": {},
   "outputs": [
    {
     "name": "stdout",
     "output_type": "stream",
     "text": [
      "User_id: 6 0.011677249173730253\n",
      "User_id: 13 0.000604714689353858\n",
      "User_id: 15 0.0008549414573623126\n",
      "User_id: 16 0.007131462888242401\n",
      "User_id: 28 0.0024084326420819036\n",
      "User_id: 31 -5.2130576668418804e-05\n",
      "User_id: 33 0.0012198554940414663\n",
      "User_id: 39 0.0019705357980670524\n",
      "User_id: 46 0.0009174981493643708\n",
      "User_id: 49 0.0013658211087130834\n",
      "User_id: 50 0.00017724396067275716\n",
      "User_id: 53 0.0016681784533899569\n",
      "User_id: 65 2.0852230667389726e-05\n",
      "User_id: 66 -5.213057666852983e-05\n",
      "User_id: 82 2.0852230667389726e-05\n",
      "User_id: 85 0.00017724396067264614\n",
      "User_id: 89 0.0008028108806940049\n",
      "User_id: 92 0.0002710789986758444\n",
      "User_id: 100 -0.0002502267680085657\n",
      "User_id: 102 0.0007194019580243349\n",
      "User_id: 103 0.003544879213453811\n",
      "User_id: 105 0.0008862198033635638\n",
      "User_id: 106 0.007631916424259533\n",
      "User_id: 118 0.0009279242646983432\n",
      "User_id: 119 0.0006464191506886374\n",
      "User_id: 120 0.0006255669200211367\n",
      "User_id: 126 0.001011333187367791\n",
      "User_id: 127 0.00409746332613925\n",
      "User_id: 128 0.005098370398173291\n",
      "User_id: 138 -5.2130576668418804e-05\n",
      "User_id: 158 0.00028150511400959477\n",
      "User_id: 160 0.00028150511400959477\n",
      "User_id: 165 0.00028150511400959477\n",
      "User_id: 172 0.00022937453734106494\n",
      "User_id: 177 0.0002710789986759554\n",
      "User_id: 203 0.0013866733393805841\n",
      "User_id: 207 0.0014179516853815022\n",
      "User_id: 223 8.34089226695589e-05\n",
      "User_id: 233 8.34089226695589e-05\n",
      "User_id: 235 -8.34089226695589e-05\n",
      "User_id: 236 0.001240707724708856\n",
      "User_id: 237 0.0014075255700477518\n",
      "User_id: 238 -2.0852230667389726e-05\n",
      "User_id: 240 -3.12783460011401e-05\n",
      "User_id: 241 -0.0001355394993378667\n",
      "User_id: 242 0.0005004535360170204\n",
      "User_id: 245 0.00023980065267481532\n",
      "User_id: 246 -9.383503800319826e-05\n",
      "User_id: 249 -9.383503800330928e-05\n",
      "User_id: 252 0.00019809619134003587\n",
      "User_id: 254 0.0020956491820712797\n",
      "User_id: 256 0.0005525841126855502\n",
      "User_id: 258 0.00017724396067275716\n",
      "User_id: 259 -0.0002710789986758444\n",
      "User_id: 260 0.00031278346001062385\n",
      "User_id: 261 0.0006672713813560271\n",
      "User_id: 263 0.0011990032633740766\n",
      "User_id: 264 0.00039619238268018275\n",
      "User_id: 269 0.0014283778007152526\n",
      "User_id: 270 0.004285133402145758\n",
      "User_id: 273 0.0006568452660223878\n",
      "User_id: 287 0.001928831336732162\n",
      "User_id: 294 -0.00020852230667389726\n",
      "User_id: 298 0.0014909344927173107\n",
      "User_id: 301 0.0017411612607258764\n",
      "User_id: 308 0.0007298280733580853\n",
      "User_id: 315 0.0004378968440148512\n",
      "User_id: 318 0.0005525841126853281\n",
      "User_id: 327 1.0426115333639352e-05\n",
      "User_id: 332 -1.0426115333750374e-05\n",
      "User_id: 333 0.0012928383013771638\n",
      "User_id: 339 0.0011990032633741876\n",
      "User_id: 340 0.00019809619133992484\n",
      "User_id: 342 0.00034406180601176395\n",
      "User_id: 344 -0.00012511338400422733\n",
      "User_id: 351 0.0014179516853815022\n",
      "User_id: 356 0.0003857662673464324\n",
      "User_id: 361 -5.2130576668418804e-05\n",
      "User_id: 363 0.0011885771480403262\n",
      "User_id: 411 0.0020018141440679704\n",
      "User_id: 417 9.383503800308723e-05\n",
      "User_id: 425 5.213057666830778e-05\n",
      "User_id: 430 0.0010217593027015415\n",
      "User_id: 435 -0.00011468726867058798\n",
      "User_id: 436 0.00015639173000536744\n",
      "User_id: 440 -5.2130576668418804e-05\n",
      "User_id: 444 0.0007923847653603655\n",
      "User_id: 475 0.0012928383013772748\n",
      "User_id: 476 0.0008549414573624237\n",
      "User_id: 486 0.0001668178453390068\n",
      "User_id: 515 0.00022937453734106494\n",
      "User_id: 533 0.0011572988020394082\n",
      "User_id: 561 0.003513600867452671\n",
      "User_id: 563 0.0005213057666844101\n",
      "User_id: 564 0.0005525841126854392\n",
      "User_id: 568 -8.340892266944788e-05\n",
      "User_id: 569 0.004264281171478257\n",
      "User_id: 570 0.0025856766027545497\n",
      "User_id: 573 -0.0001876700760062855\n",
      "User_id: 575 0.0014596561467161706\n",
      "User_id: 576 -0.0002189484220074256\n",
      "User_id: 580 0.006234816969545198\n",
      "User_id: 583 0.014773805427835573\n",
      "User_id: 584 0.002742068332759917\n",
      "User_id: 600 0.0008966459186972031\n",
      "User_id: 603 0.0006464191506886374\n",
      "User_id: 605 0.0024605632187502113\n",
      "User_id: 640 0.00021894842200753661\n",
      "User_id: 647 0.0016264739920553994\n",
      "User_id: 653 0.00014596561467161706\n",
      "User_id: 664 0.0006359930353549981\n",
      "User_id: 665 0.00023980065267481532\n",
      "User_id: 677 0.0007298280733580853\n",
      "User_id: 692 6.255669200205816e-05\n",
      "User_id: 697 0.0007402541886917247\n",
      "User_id: 705 0.0002502267680085657\n",
      "User_id: 722 0.0010843159947033776\n",
      "User_id: 740 0.0008340892266950339\n",
      "User_id: 741 7.298280733591955e-05\n",
      "User_id: 756 0.0002710789986758444\n",
      "User_id: 780 0.0007819586500266151\n",
      "User_id: 784 0.001699456799391097\n",
      "User_id: 785 -8.34089226695589e-05\n",
      "User_id: 797 0.0005421579973516888\n",
      "User_id: 812 0.005411153858184026\n",
      "User_id: 844 6.255669200205816e-05\n",
      "User_id: 859 0.0012198554940414663\n",
      "User_id: 868 -0.00022937453734106494\n",
      "User_id: 875 0.0055779717035230325\n",
      "User_id: 932 0.002398006526748153\n",
      "User_id: 996 0.0028359033707631154\n",
      "User_id: 1014 0.0013449688780456936\n",
      "User_id: 1040 0.0018662746447301037\n",
      "User_id: 1054 0.00012511338400433836\n",
      "User_id: 1248 0.00040661849801393313\n",
      "User_id: 1267 0.0003336356906780136\n",
      "User_id: 1299 9.383503800308723e-05\n",
      "User_id: 1371 0.004681325784825829\n",
      "User_id: 1797 0.0031486868307737392\n",
      "User_id: 1798 0.0012302816093752167\n",
      "User_id: 1993 0.0008757936880298134\n",
      "User_id: 2118 0.0015117867233847004\n",
      "User_id: 2174 0.0005108796513507707\n",
      "User_id: 2191 0.0004170446133475725\n",
      "User_id: 2250 -9.383503800319826e-05\n",
      "User_id: 2355 0.008424301189619787\n",
      "User_id: 2408 0.001324116647378415\n",
      "User_id: 2493 0.00029193122934334514\n",
      "User_id: 2625 0.0006776974966896665\n",
      "User_id: 2902 0.00207479695140389\n"
     ]
    }
   ],
   "source": [
    "class_distr = np.bincount(y_train_150.astype('int'))\n",
    "acc_diff_vs_constant = dict()\n",
    "\n",
    "for user_id in np.unique(y_train_150):\n",
    "    print('User_id: {0} {1}'.format(user_id, cv_scores_by_user[user_id] - \n",
    "                                    (sum(class_distr) - class_distr[user_id]) / sum(class_distr)))\n",
    "    acc_diff_vs_constant[user_id] = cv_scores_by_user[user_id] - (sum(class_distr) - class_distr[user_id]) / sum(class_distr)"
   ]
  },
  {
   "cell_type": "code",
   "execution_count": 44,
   "metadata": {},
   "outputs": [
    {
     "data": {
      "text/plain": [
       "127"
      ]
     },
     "execution_count": 44,
     "metadata": {},
     "output_type": "execute_result"
    }
   ],
   "source": [
    "num_better_than_default = (np.array(list(acc_diff_vs_constant.values())) > 0).sum()\n",
    "num_better_than_default"
   ]
  },
  {
   "cell_type": "markdown",
   "metadata": {},
   "source": [
    "The portion of users for whom logistic regression on cross-validation gives a better than constant forecast:"
   ]
  },
  {
   "cell_type": "code",
   "execution_count": 45,
   "metadata": {},
   "outputs": [
    {
     "data": {
      "text/plain": [
       "0.847"
      ]
     },
     "execution_count": 45,
     "metadata": {},
     "output_type": "execute_result"
    }
   ],
   "source": [
    "np.around(num_better_than_default / len(acc_diff_vs_constant), 3)"
   ]
  },
  {
   "cell_type": "markdown",
   "metadata": {},
   "source": [
    "**Further we will build learning curves for a specific user, for example, for the 128th. We compose a new binary vector based on * y_150users *, its values ​​will be 1 or 0 depending on whether the user ID is 128.**"
   ]
  },
  {
   "cell_type": "code",
   "execution_count": 46,
   "metadata": {},
   "outputs": [
    {
     "data": {
      "text/plain": [
       "2796"
      ]
     },
     "execution_count": 46,
     "metadata": {},
     "output_type": "execute_result"
    }
   ],
   "source": [
    "y_binary_128 = [int(id == 128) for id in y_150users]\n",
    "sum(y_binary_128)"
   ]
  },
  {
   "cell_type": "code",
   "execution_count": 47,
   "metadata": {},
   "outputs": [],
   "source": [
    "from sklearn.model_selection import learning_curve\n",
    "\n",
    "def plot_learning_curve(val_train, val_test, train_sizes, \n",
    "                        xlabel='Training Set Size', ylabel='score'):\n",
    "    def plot_with_err(x, data, **kwargs):\n",
    "        mu, std = data.mean(1), data.std(1)\n",
    "        lines = plt.plot(x, mu, '-', **kwargs)\n",
    "        plt.fill_between(x, mu - std, mu + std, edgecolor='none',\n",
    "                         facecolor=lines[0].get_color(), alpha=0.2)\n",
    "    plot_with_err(train_sizes, val_train, label='train')\n",
    "    plot_with_err(train_sizes, val_test, label='valid')\n",
    "    plt.xlabel(xlabel); plt.ylabel(ylabel)\n",
    "    plt.legend(loc='lower right');"
   ]
  },
  {
   "cell_type": "markdown",
   "metadata": {},
   "source": [
    "**We will calculate the portion of correct responses to cross-validations in the classification task \"user128-vs-All\" depending on the sample size:**"
   ]
  },
  {
   "cell_type": "code",
   "execution_count": 48,
   "metadata": {},
   "outputs": [
    {
     "name": "stdout",
     "output_type": "stream",
     "text": [
      "Wall time: 12.7 s\n"
     ]
    }
   ],
   "source": [
    "%%time\n",
    "train_sizes = np.linspace(0.25, 1, 20)\n",
    "estimator = svm_grid_searcher2.best_estimator_\n",
    "n_train, val_train, val_test = learning_curve(estimator, X_sparse_150users, y_binary_128,\n",
    "                                              train_sizes=train_sizes, n_jobs=-1, cv=skf)"
   ]
  },
  {
   "cell_type": "code",
   "execution_count": 49,
   "metadata": {},
   "outputs": [
    {
     "data": {
      "image/png": "[encoded data removed]",
      "text/plain": [
       "<Figure size 432x288 with 1 Axes>"
      ]
     },
     "metadata": {
      "needs_background": "light"
     },
     "output_type": "display_data"
    }
   ],
   "source": [
    "plot_learning_curve(val_train, val_test, n_train, \n",
    "                    xlabel='train_size', ylabel='accuracy')"
   ]
  },
  {
   "cell_type": "markdown",
   "metadata": {},
   "source": [
    "The graph shows that as the size of the training sample increases, the accuracy of the algorithm's predictions on the training sample increases, while the accuracy does not change much on the validation sample."
   ]
  },
  {
   "cell_type": "markdown",
   "metadata": {},
   "source": [
    "## Result\n",
    "* A comparison was made of the work of different algorithms in sessions of 10 sites. For algorithms (LinearSVC and LogisticRegression), hyperparameter C was selected.\n",
    "* An analysis is made of the influence of parameters - session length and window width on the accuracy of the algorithm predictions.\n",
    "* The ability of the algorithm to identify a specific user is investigated. Learning curves were also constructed to analyze the effect of the size of the training sample on the accuracy of the predictions of the algorithm on the training sample and validation sample.\n",
    "\n",
    "In Part 5 (part5_sgd_kaggle.ipynb), using linear models trained using stochastic gradient descent (SGD), we will solve the problem of the Kaggle competition \"Catch Me If You Can\"."
   ]
  }
 ],
 "metadata": {
  "anaconda-cloud": {},
  "kernelspec": {
   "display_name": "Python 3",
   "language": "python",
   "name": "python3"
  },
  "language_info": {
   "codemirror_mode": {
    "name": "ipython",
    "version": 3
   },
   "file_extension": ".py",
   "mimetype": "text/x-python",
   "name": "python",
   "nbconvert_exporter": "python",
   "pygments_lexer": "ipython3",
   "version": "3.7.6"
  }
 },
 "nbformat": 4,
 "nbformat_minor": 1
}
