{
 "cells": [
  {
   "cell_type": "markdown",
   "metadata": {},
   "source": [
    "# Project: \"Identification Of Internet Users»\n",
    "\n",
    "# Part 2. Data preparation and initial analysis"
   ]
  },
  {
   "cell_type": "markdown",
   "metadata": {},
   "source": [
    "## 1. Preparing multiple training samples for comparison\n",
    "\n",
    "Session length - 10 sites, was chosen randomly. We will make the number of sites in the session a parameter, so that in the future we can compare classification models trained on different samples with 5, 7, 10, and 15 sites in the session. We will also create sessions using the idea of a sliding window - overlapping sessions.\n",
    "\n",
    "**Example of overlapping sessions:** for a session length of 10 and a window width of 7, a file of 30 entries will generate not 3 sessions as before (1-10, 11-20, 21-30), but 5 (1-10, 8-17, 15-24, 22-30, 29-30). At the same time, the penultimate session will have one zero, and the last session will have 8 zeros.\n",
    "\n",
    "Let's create several selections for different combinations of session length and window width parameters, which are shown in the table:\n",
    "\n",
    "<style type=\"text/css\">\n",
    ".tg  {border-collapse:collapse;border-spacing:0;}\n",
    ".tg td{font-family:Arial, sans-serif;font-size:14px;padding:10px 5px;border-style:solid;border-width:1px;overflow:hidden;word-break:normal;}\n",
    ".tg th{font-family:Arial, sans-serif;font-size:14px;font-weight:normal;padding:10px 5px;border-style:solid;border-width:1px;overflow:hidden;word-break:normal;}\n",
    "</style>\n",
    "<table class=\"tg\">\n",
    "  <tr>\n",
    "    <th class=\"tg-031e\">session_length -&gt;<br>window_size <br></th>\n",
    "    <th class=\"tg-031e\">5</th>\n",
    "    <th class=\"tg-031e\">7</th>\n",
    "    <th class=\"tg-031e\">10</th>\n",
    "    <th class=\"tg-031e\">15</th>\n",
    "  </tr>\n",
    "  <tr>\n",
    "    <td class=\"tg-031e\">5</td>\n",
    "    <td class=\"tg-031e\">v</td>\n",
    "    <td class=\"tg-031e\">v</td>\n",
    "    <td class=\"tg-031e\">v</td>\n",
    "    <td class=\"tg-031e\">v</td>\n",
    "  </tr>\n",
    "  <tr>\n",
    "    <td class=\"tg-031e\">7</td>\n",
    "    <td class=\"tg-031e\"></td>\n",
    "    <td class=\"tg-031e\">v</td>\n",
    "    <td class=\"tg-031e\">v</td>\n",
    "    <td class=\"tg-031e\">v</td>\n",
    "  </tr>\n",
    "  <tr>\n",
    "    <td class=\"tg-031e\">10</td>\n",
    "    <td class=\"tg-031e\"></td>\n",
    "    <td class=\"tg-031e\"></td>\n",
    "    <td class=\"tg-031e\"><font color='green'>v</font></td>\n",
    "    <td class=\"tg-031e\">v</td>\n",
    "  </tr>\n",
    "</table>\n",
    "\n",
    "Thus 18 sparse matrices - 9 combinations of parameters (specified in the table) of session generation for samples of 10 and 150 users will be obtained. At the same time, 2 samples have already been created in Part 1 of the project, they correspond to the combination of parameters: session_length=10, window_size=10."
   ]
  },
  {
   "cell_type": "code",
   "execution_count": 1,
   "metadata": {},
   "outputs": [],
   "source": [
    "import os\n",
    "import re\n",
    "import itertools\n",
    "import pickle\n",
    "import warnings\n",
    "import numpy as np\n",
    "import pandas as pd\n",
    "warnings.filterwarnings('ignore')\n",
    "from glob import glob\n",
    "from tqdm import tqdm\n",
    "from scipy.sparse import csr_matrix\n",
    "from scipy import stats\n",
    "from matplotlib import pyplot as plt\n",
    "from statsmodels.stats.proportion import proportion_confint\n",
    "%matplotlib inline"
   ]
  },
  {
   "cell_type": "code",
   "execution_count": 2,
   "metadata": {},
   "outputs": [],
   "source": [
    "PATH_TO_DATA = 'capstone_user_identification'"
   ]
  },
  {
   "cell_type": "code",
   "execution_count": 3,
   "metadata": {},
   "outputs": [],
   "source": [
    "pattern = r'\\d{4}'\n",
    "\n",
    "def sparse_matr_gen(X):\n",
    "    indptr = [0]\n",
    "    indices = []\n",
    "    data = []    \n",
    "\n",
    "    for session in tqdm(X, desc='sessions'):\n",
    "        for site in session:\n",
    "            if site == 0: continue\n",
    "            indices.append(site-1) # For numbering with id = 0 (not id = 1), i.e. deleting a column 0\n",
    "            data.append(1)\n",
    "        indptr.append(len(indices))    \n",
    "    \n",
    "    return csr_matrix((data, indices, indptr))\n",
    "\n",
    "\n",
    "def prepare_sparse_train_set_window(path_to_csv_files, site_freq_path, session_length=10, window_size=10):\n",
    "    '''\n",
    "    The function generates a session table with variable session_length and window_size parameters.\n",
    "    \n",
    "    Parameters:\n",
    "    - path_to_csv_files – directory path with csv files\n",
    "    - site_freq_path – path to pickle file with frequency dictionary obtained in 1 Part of the Project\n",
    "    - session_length – session length\n",
    "    - window_size – window width\n",
    "    \n",
    "    Return:\n",
    "    - Sparse matrix X (two-dimensional Scipy.sparse.csr_matrix), in which rows correspond to\n",
    "    sessions from session_length sites, and columns correspond to sites from the previously created frequency dictionary of sites.\n",
    "    At the intersection of row and column - the number of visits to site_id in session.\n",
    "    - The y vector (Numpy array) of the \"responses\" as the ID of the users to whom the session belongs from the X_sparse.\n",
    "    '''\n",
    "    sites_per_session = list()\n",
    "    usr_id = list()\n",
    "    \n",
    "    for usr in tqdm(glob(path_to_csv_files + '\\\\user*.csv'), desc='users'):\n",
    "        \n",
    "        sites_queue = pd.read_csv(usr).site.to_list()        \n",
    "        \n",
    "        # Calculate the start indexes of the sessions\n",
    "        indexes = list()\n",
    "        i = 0\n",
    "        while i < len(sites_queue):\n",
    "            indexes.append(i)\n",
    "            i += window_size\n",
    "              \n",
    "        for i in indexes:\n",
    "            # Creating a session\n",
    "            sites_per_session.append(sites_queue[i:session_length+i])            \n",
    "            # Add zeros if necessary.\n",
    "            if len(sites_per_session[-1]) < session_length:\n",
    "                while len(sites_per_session[-1]) != session_length:\n",
    "                    sites_per_session[-1].append(0)\n",
    "            # Add the user's id\n",
    "            usr_id.append(int(*re.findall(pattern, usr)))\n",
    "            \n",
    "    # Replacing sites with indexes\n",
    "    with open(site_freq_path, 'rb') as f:\n",
    "        site_dict = pickle.load(f)\n",
    "        \n",
    "    for i, session in enumerate(sites_per_session):\n",
    "        sites_per_session[i] = list(map(lambda site: site_dict[site][0] if site in site_dict else 0, \n",
    "                                        sites_per_session[i]))\n",
    "    \n",
    "    return sparse_matr_gen(sites_per_session), usr_id\n",
    "    "
   ]
  },
  {
   "cell_type": "markdown",
   "metadata": {},
   "source": [
    "Let's create the 16 previously described training samples and their corresponding response vectors, and then save them to files:"
   ]
  },
  {
   "cell_type": "code",
   "execution_count": 4,
   "metadata": {
    "scrolled": true
   },
   "outputs": [
    {
     "name": "stderr",
     "output_type": "stream",
     "text": [
      "users: 100%|███████████████████████████████████████████████████████████████████████████| 10/10 [00:00<00:00, 61.13it/s]\n",
      "sessions: 100%|██████████████████████████████████████████████████████████████| 14061/14061 [00:00<00:00, 352224.44it/s]\n",
      "users: 100%|███████████████████████████████████████████████████████████████████████████| 10/10 [00:00<00:00, 56.31it/s]\n",
      "sessions: 100%|██████████████████████████████████████████████████████████████| 20087/20087 [00:00<00:00, 335677.34it/s]\n",
      "users: 100%|███████████████████████████████████████████████████████████████████████████| 10/10 [00:00<00:00, 57.13it/s]\n",
      "sessions: 100%|██████████████████████████████████████████████████████████████| 20087/20087 [00:00<00:00, 503216.27it/s]\n",
      "users: 100%|███████████████████████████████████████████████████████████████████████████| 10/10 [00:00<00:00, 49.75it/s]\n",
      "sessions: 100%|██████████████████████████████████████████████████████████████| 20087/20087 [00:00<00:00, 693932.05it/s]\n",
      "users: 100%|███████████████████████████████████████████████████████████████████████████| 10/10 [00:00<00:00, 48.92it/s]\n",
      "sessions: 100%|██████████████████████████████████████████████████████████████| 28118/28118 [00:00<00:00, 320469.77it/s]\n",
      "users: 100%|███████████████████████████████████████████████████████████████████████████| 10/10 [00:00<00:00, 49.15it/s]\n",
      "sessions: 100%|██████████████████████████████████████████████████████████████| 28118/28118 [00:00<00:00, 477856.41it/s]\n",
      "users: 100%|███████████████████████████████████████████████████████████████████████████| 10/10 [00:00<00:00, 40.26it/s]\n",
      "sessions: 100%|██████████████████████████████████████████████████████████████| 28118/28118 [00:00<00:00, 655266.06it/s]\n",
      "users: 100%|███████████████████████████████████████████████████████████████████████████| 10/10 [00:00<00:00, 50.57it/s]\n",
      "sessions: 100%|██████████████████████████████████████████████████████████████| 28118/28118 [00:00<00:00, 854357.00it/s]\n",
      "users: 100%|█████████████████████████████████████████████████████████████████████████| 150/150 [00:02<00:00, 57.97it/s]\n",
      "sessions: 100%|████████████████████████████████████████████████████████████| 137019/137019 [00:00<00:00, 291054.94it/s]\n",
      "users: 100%|█████████████████████████████████████████████████████████████████████████| 150/150 [00:02<00:00, 64.78it/s]\n",
      "sessions: 100%|████████████████████████████████████████████████████████████| 195712/195712 [00:00<00:00, 300042.01it/s]\n",
      "users: 100%|█████████████████████████████████████████████████████████████████████████| 150/150 [00:01<00:00, 77.08it/s]\n",
      "sessions: 100%|████████████████████████████████████████████████████████████| 195712/195712 [00:00<00:00, 372003.02it/s]\n",
      "users: 100%|█████████████████████████████████████████████████████████████████████████| 150/150 [00:01<00:00, 76.01it/s]\n",
      "sessions: 100%|████████████████████████████████████████████████████████████| 195712/195712 [00:00<00:00, 575428.38it/s]\n",
      "users: 100%|█████████████████████████████████████████████████████████████████████████| 150/150 [00:02<00:00, 67.83it/s]\n",
      "sessions: 100%|████████████████████████████████████████████████████████████| 273957/273957 [00:00<00:00, 298251.96it/s]\n",
      "users: 100%|█████████████████████████████████████████████████████████████████████████| 150/150 [00:02<00:00, 69.49it/s]\n",
      "sessions: 100%|████████████████████████████████████████████████████████████| 273957/273957 [00:00<00:00, 437403.98it/s]\n",
      "users: 100%|█████████████████████████████████████████████████████████████████████████| 150/150 [00:02<00:00, 70.22it/s]\n",
      "sessions: 100%|████████████████████████████████████████████████████████████| 273957/273957 [00:00<00:00, 580771.60it/s]\n",
      "users: 100%|█████████████████████████████████████████████████████████████████████████| 150/150 [00:02<00:00, 71.11it/s]\n",
      "sessions: 100%|████████████████████████████████████████████████████████████| 273957/273957 [00:00<00:00, 756722.53it/s]\n"
     ]
    },
    {
     "name": "stdout",
     "output_type": "stream",
     "text": [
      "Wall time: 33.9 s\n"
     ]
    }
   ],
   "source": [
    "%%time\n",
    "for num_users in [10, 150]:\n",
    "    for window_size, session_length in itertools.product([10, 7, 5], [15, 10, 7, 5]):\n",
    "        if window_size <= session_length and (window_size, session_length) != (10, 10):\n",
    "            X_sparse, y = prepare_sparse_train_set_window(os.path.join(PATH_TO_DATA, '{0}users'.format(num_users)),\n",
    "                                                          os.path.join(PATH_TO_DATA,'site_freq_{0}users.pkl'.format(num_users)),\n",
    "                                                          session_length, window_size)\n",
    "            with open(os.path.join(PATH_TO_DATA, 'X_sparse_{0}users_s{1}_w{2}.pkl'.format(num_users, session_length, window_size)), 'wb') as X_pkl:\n",
    "                pickle.dump(X_sparse, X_pkl, protocol=2)\n",
    "            with open(os.path.join(PATH_TO_DATA, 'y_{0}users_s{1}_w{2}.pkl'.format(num_users, session_length, window_size)), 'wb') as y_pkl:\n",
    "                pickle.dump(y, y_pkl, protocol=2)\n",
    "            "
   ]
  },
  {
   "cell_type": "markdown",
   "metadata": {},
   "source": [
    "## 2. Primary data analysis, hypothesis testing"
   ]
  },
  {
   "cell_type": "markdown",
   "metadata": {},
   "source": [
    "Upload the `train_data_10users.csv` file prepared in week 1 to the DataFrame. Next we'll work with him."
   ]
  },
  {
   "cell_type": "code",
   "execution_count": 5,
   "metadata": {},
   "outputs": [],
   "source": [
    "train_df = pd.read_csv(os.path.join(PATH_TO_DATA, 'train_data_10users.csv'), index_col='session_id')"
   ]
  },
  {
   "cell_type": "code",
   "execution_count": 6,
   "metadata": {},
   "outputs": [
    {
     "data": {
      "text/html": [
       "<div>\n",
       "<style scoped>\n",
       "    .dataframe tbody tr th:only-of-type {\n",
       "        vertical-align: middle;\n",
       "    }\n",
       "\n",
       "    .dataframe tbody tr th {\n",
       "        vertical-align: top;\n",
       "    }\n",
       "\n",
       "    .dataframe thead th {\n",
       "        text-align: right;\n",
       "    }\n",
       "</style>\n",
       "<table border=\"1\" class=\"dataframe\">\n",
       "  <thead>\n",
       "    <tr style=\"text-align: right;\">\n",
       "      <th></th>\n",
       "      <th>site1</th>\n",
       "      <th>site2</th>\n",
       "      <th>site3</th>\n",
       "      <th>site4</th>\n",
       "      <th>site5</th>\n",
       "      <th>site6</th>\n",
       "      <th>site7</th>\n",
       "      <th>site8</th>\n",
       "      <th>site9</th>\n",
       "      <th>site10</th>\n",
       "      <th>user_id</th>\n",
       "    </tr>\n",
       "    <tr>\n",
       "      <th>session_id</th>\n",
       "      <th></th>\n",
       "      <th></th>\n",
       "      <th></th>\n",
       "      <th></th>\n",
       "      <th></th>\n",
       "      <th></th>\n",
       "      <th></th>\n",
       "      <th></th>\n",
       "      <th></th>\n",
       "      <th></th>\n",
       "      <th></th>\n",
       "    </tr>\n",
       "  </thead>\n",
       "  <tbody>\n",
       "    <tr>\n",
       "      <th>0</th>\n",
       "      <td>192</td>\n",
       "      <td>574</td>\n",
       "      <td>133</td>\n",
       "      <td>3</td>\n",
       "      <td>133</td>\n",
       "      <td>133</td>\n",
       "      <td>3</td>\n",
       "      <td>133</td>\n",
       "      <td>203</td>\n",
       "      <td>133</td>\n",
       "      <td>31</td>\n",
       "    </tr>\n",
       "    <tr>\n",
       "      <th>1</th>\n",
       "      <td>415</td>\n",
       "      <td>193</td>\n",
       "      <td>674</td>\n",
       "      <td>254</td>\n",
       "      <td>133</td>\n",
       "      <td>31</td>\n",
       "      <td>393</td>\n",
       "      <td>3305</td>\n",
       "      <td>217</td>\n",
       "      <td>55</td>\n",
       "      <td>31</td>\n",
       "    </tr>\n",
       "    <tr>\n",
       "      <th>2</th>\n",
       "      <td>55</td>\n",
       "      <td>3</td>\n",
       "      <td>55</td>\n",
       "      <td>55</td>\n",
       "      <td>5</td>\n",
       "      <td>293</td>\n",
       "      <td>415</td>\n",
       "      <td>333</td>\n",
       "      <td>897</td>\n",
       "      <td>55</td>\n",
       "      <td>31</td>\n",
       "    </tr>\n",
       "    <tr>\n",
       "      <th>3</th>\n",
       "      <td>473</td>\n",
       "      <td>3306</td>\n",
       "      <td>473</td>\n",
       "      <td>55</td>\n",
       "      <td>55</td>\n",
       "      <td>55</td>\n",
       "      <td>55</td>\n",
       "      <td>937</td>\n",
       "      <td>199</td>\n",
       "      <td>123</td>\n",
       "      <td>31</td>\n",
       "    </tr>\n",
       "    <tr>\n",
       "      <th>4</th>\n",
       "      <td>342</td>\n",
       "      <td>55</td>\n",
       "      <td>5</td>\n",
       "      <td>3307</td>\n",
       "      <td>258</td>\n",
       "      <td>211</td>\n",
       "      <td>3308</td>\n",
       "      <td>2086</td>\n",
       "      <td>675</td>\n",
       "      <td>2086</td>\n",
       "      <td>31</td>\n",
       "    </tr>\n",
       "  </tbody>\n",
       "</table>\n",
       "</div>"
      ],
      "text/plain": [
       "            site1  site2  site3  site4  site5  site6  site7  site8  site9  \\\n",
       "session_id                                                                  \n",
       "0             192    574    133      3    133    133      3    133    203   \n",
       "1             415    193    674    254    133     31    393   3305    217   \n",
       "2              55      3     55     55      5    293    415    333    897   \n",
       "3             473   3306    473     55     55     55     55    937    199   \n",
       "4             342     55      5   3307    258    211   3308   2086    675   \n",
       "\n",
       "            site10  user_id  \n",
       "session_id                   \n",
       "0              133       31  \n",
       "1               55       31  \n",
       "2               55       31  \n",
       "3              123       31  \n",
       "4             2086       31  "
      ]
     },
     "execution_count": 6,
     "metadata": {},
     "output_type": "execute_result"
    }
   ],
   "source": [
    "train_df.head()"
   ]
  },
  {
   "cell_type": "code",
   "execution_count": 7,
   "metadata": {},
   "outputs": [
    {
     "name": "stdout",
     "output_type": "stream",
     "text": [
      "<class 'pandas.core.frame.DataFrame'>\n",
      "Int64Index: 14061 entries, 0 to 14060\n",
      "Data columns (total 11 columns):\n",
      " #   Column   Non-Null Count  Dtype\n",
      "---  ------   --------------  -----\n",
      " 0   site1    14061 non-null  int64\n",
      " 1   site2    14061 non-null  int64\n",
      " 2   site3    14061 non-null  int64\n",
      " 3   site4    14061 non-null  int64\n",
      " 4   site5    14061 non-null  int64\n",
      " 5   site6    14061 non-null  int64\n",
      " 6   site7    14061 non-null  int64\n",
      " 7   site8    14061 non-null  int64\n",
      " 8   site9    14061 non-null  int64\n",
      " 9   site10   14061 non-null  int64\n",
      " 10  user_id  14061 non-null  int64\n",
      "dtypes: int64(11)\n",
      "memory usage: 1.3 MB\n"
     ]
    }
   ],
   "source": [
    "train_df.info()"
   ]
  },
  {
   "cell_type": "markdown",
   "metadata": {},
   "source": [
    "**Distribution of a target class:**"
   ]
  },
  {
   "cell_type": "code",
   "execution_count": 8,
   "metadata": {},
   "outputs": [
    {
     "data": {
      "text/plain": [
       "128    2796\n",
       "39     2204\n",
       "207    1868\n",
       "127    1712\n",
       "237    1643\n",
       "33     1022\n",
       "50      802\n",
       "31      760\n",
       "100     720\n",
       "241     534\n",
       "Name: user_id, dtype: int64"
      ]
     },
     "execution_count": 8,
     "metadata": {},
     "output_type": "execute_result"
    }
   ],
   "source": [
    "train_df['user_id'].value_counts()"
   ]
  },
  {
   "cell_type": "markdown",
   "metadata": {},
   "source": [
    "**We will calculate the distribution of the number of unique sites in each session out of 10 sites visited in a row:**"
   ]
  },
  {
   "cell_type": "code",
   "execution_count": 9,
   "metadata": {},
   "outputs": [],
   "source": [
    "num_unique_sites = [np.unique(train_df.values[i, :-1]).shape[0] \n",
    "                    for i in range(train_df.shape[0])]"
   ]
  },
  {
   "cell_type": "code",
   "execution_count": 10,
   "metadata": {},
   "outputs": [
    {
     "data": {
      "text/plain": [
       "[5, 10, 7, 6, 9, 8, 7, 8, 8, 7, 7, 8, 9, 8, 8, 5, 6, 4, 6, 5]"
      ]
     },
     "execution_count": 10,
     "metadata": {},
     "output_type": "execute_result"
    }
   ],
   "source": [
    "num_unique_sites[:20]"
   ]
  },
  {
   "cell_type": "code",
   "execution_count": 11,
   "metadata": {},
   "outputs": [
    {
     "data": {
      "text/plain": [
       "7     2308\n",
       "6     2197\n",
       "8     2046\n",
       "5     1735\n",
       "9     1394\n",
       "2     1246\n",
       "4     1163\n",
       "3      894\n",
       "10     651\n",
       "1      427\n",
       "dtype: int64"
      ]
     },
     "execution_count": 11,
     "metadata": {},
     "output_type": "execute_result"
    }
   ],
   "source": [
    "pd.Series(num_unique_sites).value_counts()"
   ]
  },
  {
   "cell_type": "code",
   "execution_count": 12,
   "metadata": {},
   "outputs": [
    {
     "data": {
      "image/png": "[encoded data removed]",
      "text/plain": [
       "<Figure size 432x288 with 1 Axes>"
      ]
     },
     "metadata": {
      "needs_background": "light"
     },
     "output_type": "display_data"
    }
   ],
   "source": [
    "pd.Series(num_unique_sites).hist()\n",
    "plt.xlabel('Number unique sites')\n",
    "plt.ylabel('Sessions')\n",
    "plt.show()"
   ]
  },
  {
   "cell_type": "markdown",
   "metadata": {},
   "source": [
    "**Using the QQ graph and the Shapiro-Wilk test, we check whether this random variable is distributed normally:**"
   ]
  },
  {
   "cell_type": "code",
   "execution_count": 13,
   "metadata": {},
   "outputs": [
    {
     "data": {
      "image/png": "[encoded data removed]",
      "text/plain": [
       "<Figure size 432x288 with 1 Axes>"
      ]
     },
     "metadata": {
      "needs_background": "light"
     },
     "output_type": "display_data"
    },
    {
     "name": "stdout",
     "output_type": "stream",
     "text": [
      "Shapiro-Wilk normality test, W-statistic: 0.954693, p-value: 0.000000\n"
     ]
    }
   ],
   "source": [
    "# QQ graph\n",
    "stats.probplot(num_unique_sites, dist=\"norm\", plot=plt)\n",
    "plt.show()\n",
    "\n",
    "# Shapiro-Wilk test\n",
    "print( \"Shapiro-Wilk normality test, W-statistic: %f, p-value: %f\" % stats.shapiro(num_unique_sites) )"
   ]
  },
  {
   "cell_type": "markdown",
   "metadata": {},
   "source": [
    "* As you can see from the graph, the distribution is not normal – the maximum values of our distribution are less than the values of the ideal normal distribution, as well as the minimum values are greater than those in the ideal normal distribution.\n",
    "\n",
    "* The null distribution normality hypothesis is rejected at significance level 0.05."
   ]
  },
  {
   "cell_type": "markdown",
   "metadata": {},
   "source": [
    "**Let's test the hypothesis that the user will visit a site that they have previously visited in a session of 10 sites at least once.** \n",
    "Using the binomial criterion for the portion, we check that the portion of cases when the user visited a site again (i.e., the number of unique sites in a session < 10) is greater than 95%:"
   ]
  },
  {
   "cell_type": "code",
   "execution_count": 14,
   "metadata": {},
   "outputs": [],
   "source": [
    "has_two_similar = (np.array(num_unique_sites) < 10).astype('int')"
   ]
  },
  {
   "cell_type": "code",
   "execution_count": 15,
   "metadata": {},
   "outputs": [
    {
     "name": "stdout",
     "output_type": "stream",
     "text": [
      "p-value: 0.022\n"
     ]
    }
   ],
   "source": [
    "p_val = stats.binom_test(sum(has_two_similar), len(has_two_similar), 0.95, alternative='greater')\n",
    "print('p-value:', np.around(p_val, 3))"
   ]
  },
  {
   "cell_type": "markdown",
   "metadata": {},
   "source": [
    "In other words, the alternative hypothesis that the portion of cases when the user re-visited a site is more than 95% is accepted at the significance level of 0.05."
   ]
  },
  {
   "cell_type": "markdown",
   "metadata": {},
   "source": [
    "**95% confidence interval for the portion of cases when the user visited a site again:**"
   ]
  },
  {
   "cell_type": "code",
   "execution_count": 16,
   "metadata": {},
   "outputs": [],
   "source": [
    "wilson_interval = proportion_confint(sum(has_two_similar), len(has_two_similar), method = 'wilson')"
   ]
  },
  {
   "cell_type": "code",
   "execution_count": 17,
   "metadata": {},
   "outputs": [
    {
     "name": "stdout",
     "output_type": "stream",
     "text": [
      "[0.95 0.957]\n"
     ]
    }
   ],
   "source": [
    "print('[{} {}]'.format(round(wilson_interval[0], 3), round(wilson_interval[1], 3)))"
   ]
  },
  {
   "cell_type": "markdown",
   "metadata": {},
   "source": [
    "**Site frequency distribution (how many times a particular site is found in the sample) for sites that have been visited at least 1000 times:**"
   ]
  },
  {
   "cell_type": "code",
   "execution_count": 18,
   "metadata": {},
   "outputs": [
    {
     "data": {
      "text/html": [
       "<div>\n",
       "<style scoped>\n",
       "    .dataframe tbody tr th:only-of-type {\n",
       "        vertical-align: middle;\n",
       "    }\n",
       "\n",
       "    .dataframe tbody tr th {\n",
       "        vertical-align: top;\n",
       "    }\n",
       "\n",
       "    .dataframe thead th {\n",
       "        text-align: right;\n",
       "    }\n",
       "</style>\n",
       "<table border=\"1\" class=\"dataframe\">\n",
       "  <thead>\n",
       "    <tr style=\"text-align: right;\">\n",
       "      <th></th>\n",
       "      <th>id</th>\n",
       "      <th>freq</th>\n",
       "    </tr>\n",
       "  </thead>\n",
       "  <tbody>\n",
       "    <tr>\n",
       "      <th>www.google.com</th>\n",
       "      <td>3</td>\n",
       "      <td>5441</td>\n",
       "    </tr>\n",
       "    <tr>\n",
       "      <th>www.facebook.com</th>\n",
       "      <td>5</td>\n",
       "      <td>4141</td>\n",
       "    </tr>\n",
       "    <tr>\n",
       "      <th>www.google.fr</th>\n",
       "      <td>2</td>\n",
       "      <td>7813</td>\n",
       "    </tr>\n",
       "    <tr>\n",
       "      <th>apis.google.com</th>\n",
       "      <td>6</td>\n",
       "      <td>3758</td>\n",
       "    </tr>\n",
       "    <tr>\n",
       "      <th>static.ak.facebook.com</th>\n",
       "      <td>18</td>\n",
       "      <td>1265</td>\n",
       "    </tr>\n",
       "  </tbody>\n",
       "</table>\n",
       "</div>"
      ],
      "text/plain": [
       "                        id  freq\n",
       "www.google.com           3  5441\n",
       "www.facebook.com         5  4141\n",
       "www.google.fr            2  7813\n",
       "apis.google.com          6  3758\n",
       "static.ak.facebook.com  18  1265"
      ]
     },
     "execution_count": 18,
     "metadata": {},
     "output_type": "execute_result"
    }
   ],
   "source": [
    "with open(os.path.join(PATH_TO_DATA, 'site_freq_10users.pkl'), 'rb') as f:    \n",
    "    site_freqs = pd.DataFrame.from_dict(pickle.load(f), orient='index', columns=['id', 'freq'])\n",
    "    site_freqs_1000 = site_freqs[site_freqs.freq >= 1000]\n",
    "site_freqs_1000.head()"
   ]
  },
  {
   "cell_type": "code",
   "execution_count": 19,
   "metadata": {},
   "outputs": [
    {
     "data": {
      "image/png": "[encoded data removed]",
      "text/plain": [
       "<Figure size 432x288 with 1 Axes>"
      ]
     },
     "metadata": {
      "needs_background": "light"
     },
     "output_type": "display_data"
    }
   ],
   "source": [
    "plt.bar(site_freqs_1000.id, site_freqs_1000.freq)\n",
    "plt.xlabel('Site')\n",
    "plt.ylabel('Frequence')\n",
    "plt.show()"
   ]
  },
  {
   "cell_type": "markdown",
   "metadata": {},
   "source": [
    "**95% confidence interval for the median frequency of site appearance in the sample (in all, not just for sites that have been visited at least 1000 times) based on bootstrap:**"
   ]
  },
  {
   "cell_type": "code",
   "execution_count": 20,
   "metadata": {},
   "outputs": [],
   "source": [
    "def get_bootstrap_samples(data, n_samples, random_seed=17):\n",
    "    np.random.seed(random_seed)\n",
    "    indices = np.random.randint(0, len(data), (n_samples, len(data)))\n",
    "    samples = data[indices]\n",
    "    return samples"
   ]
  },
  {
   "cell_type": "code",
   "execution_count": 21,
   "metadata": {},
   "outputs": [],
   "source": [
    "def stat_intervals(stat, alpha):\n",
    "    boundaries = np.percentile(stat, [100 * alpha / 2., 100 * (1 - alpha / 2.)])\n",
    "    return boundaries"
   ]
  },
  {
   "cell_type": "code",
   "execution_count": 22,
   "metadata": {},
   "outputs": [
    {
     "name": "stdout",
     "output_type": "stream",
     "text": [
      "95% confidence interval for the median frequency: [22.361 36.115]\n"
     ]
    }
   ],
   "source": [
    "median_scores = list(map(np.average, get_bootstrap_samples(site_freqs.freq[::-1], len(site_freqs.freq))))\n",
    "print(\"95% confidence interval for the median frequency:\",  np.around(stat_intervals(median_scores, 0.05), 3))"
   ]
  },
  {
   "cell_type": "markdown",
   "metadata": {},
   "source": [
    "## Result:\n",
    "* For further analysis, samples with different session lengths and window widths were constructed.\n",
    "* Initial data analysis was performed and hypotheses were tested.\n",
    "\n",
    "In Part 3 (part3_visual_analysis_and_fe.ipynb) of the Project, visual data analysis and feature construction are implemented."
   ]
  }
 ],
 "metadata": {
  "anaconda-cloud": {},
  "kernelspec": {
   "display_name": "Python 3",
   "language": "python",
   "name": "python3"
  },
  "language_info": {
   "codemirror_mode": {
    "name": "ipython",
    "version": 3
   },
   "file_extension": ".py",
   "mimetype": "text/x-python",
   "name": "python",
   "nbconvert_exporter": "python",
   "pygments_lexer": "ipython3",
   "version": "3.7.6"
  }
 },
 "nbformat": 4,
 "nbformat_minor": 1
}
